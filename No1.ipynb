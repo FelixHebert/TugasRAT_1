{
  "nbformat": 4,
  "nbformat_minor": 0,
  "metadata": {
    "colab": {
      "name": "Untitled0.ipynb",
      "provenance": [],
      "authorship_tag": "ABX9TyNNN8ryx0ESwk1G6sL6xcN9",
      "include_colab_link": true
    },
    "kernelspec": {
      "name": "python3",
      "display_name": "Python 3"
    }
  },
  "cells": [
    {
      "cell_type": "markdown",
      "metadata": {
        "id": "view-in-github",
        "colab_type": "text"
      },
      "source": [
        "<a href=\"https://colab.research.google.com/github/FelixHebert/TugasRAT_1/blob/main/No1.ipynb\" target=\"_parent\"><img src=\"https://colab.research.google.com/assets/colab-badge.svg\" alt=\"Open In Colab\"/></a>"
      ]
    },
    {
      "cell_type": "code",
      "metadata": {
        "colab": {
          "base_uri": "https://localhost:8080/"
        },
        "id": "QnwWrihJyfIE",
        "outputId": "94e08621-ecfd-434c-e3ea-c12ba75bab9c"
      },
      "source": [
        "def check_palindrom(string):\r\n",
        "    length = len(string)\r\n",
        "    first = 0\r\n",
        "    last = length -1 \r\n",
        "    status = 1\r\n",
        "    while(first<last):\r\n",
        "           if(string[first]==string[last]):\r\n",
        "               first=first+1\r\n",
        "               last=last-1\r\n",
        "           else:\r\n",
        "               status = 0\r\n",
        "               break\r\n",
        "    return int(status)  \r\n",
        "\r\n",
        "\r\n",
        "\r\n",
        "list_kata=[\"Universitas\", \"Pelita\", \"Harapan\", \"level\", \"atas\"]\r\n",
        "list_palindrom=[]\r\n",
        "for x in range(0,len(list_kata)):\r\n",
        "  print(\"List kata berisi :\"+list_kata[x],end=' ')\r\n",
        "  print(type(list_kata[x]))\r\n",
        "  status= check_palindrom(list_kata[x])\r\n",
        "  if(status):\r\n",
        "    list_palindrom.append(list_kata[x])\r\n",
        "\r\n",
        "print(\"List kata palindrom : \"+list_palindrom)\r\n",
        "\r\n",
        "\r\n"
      ],
      "execution_count": 19,
      "outputs": [
        {
          "output_type": "stream",
          "text": [
            "List kata berisi :Universitas <class 'str'>\n",
            "List kata berisi :Pelita <class 'str'>\n",
            "List kata berisi :Harapan <class 'str'>\n",
            "List kata berisi :level <class 'str'>\n",
            "List kata berisi :atas <class 'str'>\n",
            "['level']\n"
          ],
          "name": "stdout"
        }
      ]
    },
    {
      "cell_type": "code",
      "metadata": {
        "id": "-AVyCZIz6A_D"
      },
      "source": [
        ""
      ],
      "execution_count": 18,
      "outputs": []
    },
    {
      "cell_type": "code",
      "metadata": {
        "id": "7OkgJzYF6Bt6"
      },
      "source": [
        ""
      ],
      "execution_count": 18,
      "outputs": []
    }
  ]
}